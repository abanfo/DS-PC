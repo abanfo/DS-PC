{
 "cells": [
  {
   "cell_type": "code",
   "execution_count": 5,
   "metadata": {},
   "outputs": [],
   "source": [
    "import pandas as pd\n",
    "import numpy as np\n",
    "from collections import defaultdict\n",
    "import numpy as np\n",
    "import matplotlib.pyplot as plt\n",
    "import datetime"
   ]
  },
  {
   "cell_type": "code",
   "execution_count": 6,
   "metadata": {
    "scrolled": true
   },
   "outputs": [
    {
     "name": "stdout",
     "output_type": "stream",
     "text": [
      "first dict\n",
      "defaultdict(<class 'int'>, {('OBBF', 16): 2, ('VLIP', 16): 1, ('VLIP', 18): 1, ('EUNK', 19): 1, ('OBBF', 18): 1, ('OBBF', 20): 1, ('ZMQE', 27): 1, ('RJCW', 25): 1, ('RQTI', 21): 1, ('OBBF', 29): 1})\n",
      "############################################################\n",
      "defaultdict(<class 'int'>, {'teens_youthAdult': 6, 'Adult': 5})\n",
      "#############################################\n",
      "defaultdict(<class 'list'>, {'teens_youthAdult': [('OBBF', 16), ('VLIP', 16), ('VLIP', 18), ('EUNK', 19), ('OBBF', 18)], 'Adult': [('OBBF', 20), ('ZMQE', 27), ('RJCW', 25), ('RQTI', 21), ('OBBF', 29)]})\n",
      "#############################################\n",
      "final dict stared\n",
      "0:00:00.002999\n",
      "final result\n",
      "[('teens_youthAdult', 1.2), ('Adult', 1.0)]\n"
     ]
    }
   ],
   "source": [
    "import datetime\n",
    "from collections import defaultdict\n",
    "\n",
    "import pandas as pd\n",
    "import sys\n",
    "\n",
    "PATH = ''\n",
    "# loading the dataset!\n",
    "\n",
    "\n",
    "data_1 = pd.read_csv('C:/Users/abanfo/Desktop/big_data_1.csv', header=None)\n",
    "data_2 = pd.read_csv('C:/Users/abanfo/Desktop/big_data_2.csv', header=None)\n",
    "data_3 = pd.read_csv('C:/Users/abanfo/Desktop/big_data_3.csv', header=None)\n",
    "data_4 = pd.read_csv('C:/Users/abanfo/Desktop/big_data_4.csv', header=None)\n",
    "data_5 = pd.read_csv('C:/Users/abanfo/Desktop/big_data_5.csv', header=None)\n",
    "\n",
    "# conconatinate all the data to formulate the whole datset\n",
    "df = pd.concat([data_1, data_2, data_3, data_4, data_5], ignore_index=True)\n",
    "\n",
    "# start the time\n",
    "start_time = datetime.datetime.now()\n",
    "\n",
    "# loc the attributes of interest which are a user and his age\n",
    "users_ages = df.iloc[:, 1:3].values\n",
    "\n",
    "# populating the dictionary with key (user, age) and value as number of this combination friends\n",
    "dictionary_age_friends = defaultdict(int)\n",
    "\n",
    "for element in users_ages:\n",
    "    pair = (element[0], element[1])\n",
    "    if (pair in dictionary_age_friends):\n",
    "        dictionary_age_friends[pair] = dictionary_age_friends[pair] + 1\n",
    "    else:\n",
    "        dictionary_age_friends[pair] = 1\n",
    "print(\"first dict\")\n",
    "print(dictionary_age_friends)\n",
    "print(\"############################################################\")\n",
    "\n",
    "def get_age_period(age):\n",
    "    if age in range(16, 20):\n",
    "        return 'teens_youthAdult'\n",
    "    elif age in range(20, 40):\n",
    "        return 'Adult'\n",
    "    elif age in range(40, 60):\n",
    "        return 'MiddleAge'\n",
    "    elif age in range(60, 72):\n",
    "        return 'old'\n",
    "\n",
    "\n",
    "# this dictionary contains the different users within one age period\n",
    "pre_result = defaultdict(int)\n",
    "# this dictionary contains number of friends within each period\n",
    "period_ages = defaultdict(list)\n",
    "for user_age, friends in dictionary_age_friends.items():\n",
    "    age_period = get_age_period(user_age[1])\n",
    "    if (user_age not in period_ages[age_period]):\n",
    "        period_ages[age_period].append(user_age)\n",
    "    if (age_period in pre_result):\n",
    "        pre_result[age_period] = pre_result[age_period] + friends\n",
    "    else:\n",
    "        pre_result[age_period] = friends\n",
    "\n",
    "print(pre_result)\n",
    "print(\"#############################################\")\n",
    "print(period_ages)\n",
    "print(\"#############################################\")\n",
    "\n",
    "print(\"final dict stared\")\n",
    "\n",
    "#this calculated the age group and the average number of friends\n",
    "result = [(period_age, round(float(friends_number) / len(period_ages[period_age]), 2)) for period_age, friends_number in\n",
    "          pre_result.items()]\n",
    "\n",
    "print(end_time - start_time)\n",
    "\n",
    "print(result)\n",
    "end_time = datetime.datetime.now()\n",
    "print(end_time - start_time)\n"
   ]
  },
  {
   "cell_type": "code",
   "execution_count": null,
   "metadata": {},
   "outputs": [],
   "source": []
  }
 ],
 "metadata": {
  "kernelspec": {
   "display_name": "Python 3",
   "language": "python",
   "name": "python3"
  },
  "language_info": {
   "codemirror_mode": {
    "name": "ipython",
    "version": 3
   },
   "file_extension": ".py",
   "mimetype": "text/x-python",
   "name": "python",
   "nbconvert_exporter": "python",
   "pygments_lexer": "ipython3",
   "version": "3.7.1"
  }
 },
 "nbformat": 4,
 "nbformat_minor": 2
}
